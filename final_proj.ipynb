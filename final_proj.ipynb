{
 "cells": [
  {
   "cell_type": "markdown",
   "metadata": {},
   "source": [
    "# Final Project CPSC 381: Introduction to Machine learning\n",
    "Diego Aspinwall, Ethan Mathieu, Taimur Moolji"
   ]
  },
  {
   "cell_type": "markdown",
   "metadata": {},
   "source": [
    "# 01: Data Loading + Cleaning"
   ]
  },
  {
   "cell_type": "code",
   "execution_count": null,
   "metadata": {},
   "outputs": [],
   "source": [
    "pip install yfinance"
   ]
  },
  {
   "cell_type": "code",
   "execution_count": null,
   "metadata": {},
   "outputs": [],
   "source": [
    "# Imports\n",
    "import pandas as pd\n",
    "import matplotlib.pyplot as plt\n",
    "import yfinance as yf\n",
    "import pickle\n",
    "\n",
    "GREEN = \"#56D6B3\"\n",
    "BLUE = \"#636FFA\"\n",
    "RED = \"#ED8375\""
   ]
  },
  {
   "cell_type": "markdown",
   "metadata": {},
   "source": [
    "## 01-A: Loading Oil Data"
   ]
  },
  {
   "cell_type": "code",
   "execution_count": null,
   "metadata": {},
   "outputs": [],
   "source": [
    "# Data load + formatting from the CSV\n",
    "def load_WTI_data():\n",
    "    path_name = \"./Cushing_OK_WTI_Spot_Price_FOB_20200619.csv\" # NOTE: Replace with your filepath\n",
    "    df = pd.read_csv(path_name, header=4, parse_dates=[0])\n",
    "    df.columns=[\"Date\", \"WTI\"]\n",
    "    df.set_index('Date', inplace=True)\n",
    "    df.sort_index(inplace=True)\n",
    "    return df\n",
    "\n",
    "WTI = load_WTI_data()"
   ]
  },
  {
   "cell_type": "code",
   "execution_count": null,
   "metadata": {},
   "outputs": [],
   "source": [
    "# Data load + formatting from the CSV\n",
    "def load_Brent_data():\n",
    "    path_name = \"./BrentOilPrices.csv\" # NOTE: Replace with your filepath\n",
    "    df = pd.read_csv(path_name, parse_dates=[0])\n",
    "    df.columns=[\"Date\", \"Brent\"]\n",
    "    df.set_index('Date', inplace=True)\n",
    "    df.sort_index(inplace=True)\n",
    "    return df\n",
    "\n",
    "brent = load_Brent_data()\n"
   ]
  },
  {
   "cell_type": "code",
   "execution_count": null,
   "metadata": {},
   "outputs": [],
   "source": [
    "# Combine the two price series into a single dataframe\n",
    "oil_data = pd.merge(WTI, brent, left_index=True, right_index=True, how= \"inner\")\n",
    "oil_data[\"Spread\"] = oil_data[\"WTI\"] - oil_data[\"Brent\"]\n",
    "oil_data[\"WTI_Daily_Change\"] = oil_data[\"WTI\"].pct_change()\n",
    "oil_data[\"Brent_Daily_Change\"] = oil_data[\"Brent\"].pct_change()\n"
   ]
  },
  {
   "cell_type": "markdown",
   "metadata": {},
   "source": [
    "### 01-A1: EDA of Oil Prices and Spread over Time"
   ]
  },
  {
   "cell_type": "code",
   "execution_count": null,
   "metadata": {},
   "outputs": [],
   "source": [
    "# Graph the price of each of the oil types, as well as the premium of WTI to Brent\n",
    "fig, axes = plt.subplots(1, 2, figsize=(15, 4))  \n",
    "axes = axes.flatten()\n",
    "\n",
    "axes[0].plot(oil_data.index, oil_data[\"WTI\"], label = \"WTI\", color = GREEN)\n",
    "axes[0].plot(oil_data.index, oil_data[\"Brent\"], label = \"Brent\", color = BLUE)\n",
    "axes[0].set_xlabel('Date')\n",
    "axes[0].set_ylabel('WTI Price')\n",
    "axes[0].set_title('Oil Prices over Time')\n",
    "axes[0].legend()\n",
    "\n",
    "data_sub = oil_data[oil_data[\"Spread\"] > -30]\n",
    "color_seq = list(data_sub[\"Spread\"].apply(lambda x: RED if x<0 else GREEN))\n",
    "axes[1].bar(data_sub.index, data_sub[\"Spread\"], color = color_seq)\n",
    "axes[1].set_xlabel(\"Date\")\n",
    "axes[1].set_ylabel(\"Spread\")\n",
    "axes[1].set_title('WTI Premium to Brent over Time')\n",
    "\n",
    "fig.suptitle(\"Oil Prices and Spread over Time\")\n",
    "\n",
    "plt.show()"
   ]
  },
  {
   "cell_type": "markdown",
   "metadata": {},
   "source": [
    "### 01-A2: EDA of 1-Day Percent Change in Oil Prices"
   ]
  },
  {
   "cell_type": "code",
   "execution_count": null,
   "metadata": {},
   "outputs": [],
   "source": [
    "# Below we plot histograms of the 1 day percent change in price of Brent and WTI\n",
    "\n",
    "fig, axes = plt.subplots(1, 2, figsize=(15, 4))  \n",
    "axes = axes.flatten()\n",
    "\n",
    "axes[0].hist( oil_data[\"Brent_Daily_Change\"]*100, color = BLUE, bins = 100)\n",
    "axes[0].set_xlabel('Daily % Change in Brent Price')\n",
    "axes[0].set_ylabel('Frequency')\n",
    "axes[0].set_title('Distribution of 1 Day Change in Brent Price')\n",
    "\n",
    "axes[1].hist( oil_data[\"WTI_Daily_Change\"]*100, color = GREEN, bins = 100)\n",
    "axes[1].set_xlabel('Daily % Change in WTI Price')\n",
    "axes[1].set_ylabel('Frequency')\n",
    "axes[1].set_title('Distribution of 1 Day Change in WTI Price')\n",
    "\n",
    "fig.suptitle(\"Distribution of 1 Day % Change in Oil Prices\")\n",
    "\n",
    "plt.show()"
   ]
  },
  {
   "cell_type": "markdown",
   "metadata": {},
   "source": [
    "## 01-B: Loading Price Data"
   ]
  },
  {
   "cell_type": "code",
   "execution_count": null,
   "metadata": {},
   "outputs": [],
   "source": [
    "# Pull Stock Data for the following: \n",
    "\n",
    "# Exxon Mobil - NYSE: XOM\n",
    "# Chevron - NYSE: CVX\n",
    "# Shell - NYSE: SHEL\n",
    "# Total Energies - NYSE: TTE\n",
    "# ConocoPhillips - NYSE: COP\n",
    "# BP - NYSE: BP\n",
    "# Equinor ASA - NYSE: EQNR\n",
    "# Canadian Natural Resources - NYSE: CNQ\n",
    "# Marathon Petroleum - NYSE: MPC\n",
    "\n",
    "\n",
    "# IMPORTANT: Keep this set to false unless the data file is corrupted or you dont have it. YF API limits are super stringent\n",
    "REFRESH_PRICE_DATA_PULL = False\n",
    "REFRESH_SHARE_DATA_PULL = False\n",
    "tickers = [\"XOM\", 'CVX', 'COP', 'BP', 'EQNR', 'CNQ', 'MPC']\n",
    "tickers_to_names = {\"XOM\" : \"Exxon Mobil\",\n",
    "                    'CVX' : \"Chevron\",\n",
    "                    'COP' : \"Conoco Phillips\",\n",
    "                    'BP' : \"British Petroleum\",\n",
    "                    'EQNR':  \"Equinor ASA\",\n",
    "                    'CNQ' : \"Canadian Natural Resources\",\n",
    "                    'MPC' : \"Marathon Petroleum\"}"
   ]
  },
  {
   "cell_type": "code",
   "execution_count": null,
   "metadata": {},
   "outputs": [],
   "source": [
    "# Toggle pulling the data again with the flag in the previous cell\n",
    "if REFRESH_PRICE_DATA_PULL == True:\n",
    "\n",
    "    # Use YF Database to pull stock data\n",
    "    def get_price_data(tickers, start_date, end_date):\n",
    "        \"\"\"\n",
    "        Get price time series data for each ticker between specified dates.\n",
    "\n",
    "        Parameters:\n",
    "            tickers (list): List of ticker symbols.\n",
    "            start_date (str): Start date in 'YYYY-MM-DD' format.\n",
    "            end_date (str): End date in 'YYYY-MM-DD' format.\n",
    "\n",
    "        Returns:\n",
    "            dict: Dictionary containing price data for each ticker.\n",
    "        \"\"\"\n",
    "        price_data = {}\n",
    "        for ticker in tickers:\n",
    "            try:\n",
    "                data = yf.download(ticker, start=start_date, end=end_date)\n",
    "                price_data[ticker] = data\n",
    "            except Exception as e:\n",
    "                print(f\"Error fetching data for {ticker}: {e}\")\n",
    "        return price_data\n",
    "\n",
    "\n",
    "    # Pull stock data for specified tickers\n",
    "    START_DATE = '2015-11-04'\n",
    "    END_DATE = '2020-06-19'\n",
    "\n",
    "    # This returns a dictionary that has tickername: Dataframe of stock prices + various other data\n",
    "    price_data = get_price_data(tickers, START_DATE, END_DATE)\n",
    "\n",
    "    \n",
    "    def save_price_data(price_data, filename):\n",
    "        \"\"\"\n",
    "        Save price data dictionary to a file using pickle.\n",
    "\n",
    "        Parameters:\n",
    "            price_data (dict): Dictionary containing price data for each ticker.\n",
    "            filename (str): Name of the file to save.\n",
    "        \"\"\"\n",
    "        with open(filename, 'wb') as f:\n",
    "            pickle.dump(price_data, f)\n",
    "\n",
    "    # Saves the dictionary to a pkl file for easy data pull without hitting API refresh limit\n",
    "    save_price_data(price_data, 'price_data.pkl')\n"
   ]
  },
  {
   "cell_type": "code",
   "execution_count": null,
   "metadata": {},
   "outputs": [],
   "source": [
    "# Toggle pulling the data again with the flag in the previous cell\n",
    "if REFRESH_SHARE_DATA_PULL == True:\n",
    "    # Use YF Database to pull stock data\n",
    "    def get_share_data(tickers, start_date, end_date):\n",
    "        \"\"\"\n",
    "        Get price time series data for each ticker between specified dates.\n",
    "\n",
    "        Parameters:\n",
    "            tickers (list): List of ticker symbols.\n",
    "            start_date (str): Start date in 'YYYY-MM-DD' format.\n",
    "            end_date (str): End date in 'YYYY-MM-DD' format.\n",
    "\n",
    "        Returns:\n",
    "            dict: Dictionary containing price data for each ticker.\n",
    "        \"\"\"\n",
    "        price_data = {}\n",
    "        for ticker in tickers:\n",
    "            try:\n",
    "                tkr = yf.Ticker(ticker)\n",
    "                data = tkr.get_shares_full(start=start_date, end=end_date)\n",
    "                price_data[ticker] = data\n",
    "            except Exception as e:\n",
    "                print(f\"Error fetching data for {ticker}: {e}\")\n",
    "        return price_data\n",
    "\n",
    "\n",
    "    # Pull stock data for specified tickers\n",
    "    start_date = '2015-11-04'\n",
    "    end_date = '2020-06-19'\n",
    "\n",
    "    # This returns a dictionary that has tickername: Dataframe of stock prices + various other data\n",
    "    share_data = get_share_data(tickers, start_date, end_date)\n",
    "\n",
    "    # Saves the dictionary to a pkl file for easy data pull without hitting API refresh limit\n",
    "    save_price_data(share_data, 'share_data.pkl')"
   ]
  },
  {
   "cell_type": "code",
   "execution_count": null,
   "metadata": {},
   "outputs": [],
   "source": [
    "def load_data_from_file(filename):\n",
    "    \"\"\"\n",
    "    Load price data dictionary from a file using pickle.\n",
    "\n",
    "    Parameters:\n",
    "        filename (str): Name of the file to load.\n",
    "\n",
    "    Returns:\n",
    "        dict: Dictionary containing price data for each ticker.\n",
    "    \"\"\"\n",
    "    with open(filename, 'rb') as f:\n",
    "        return pickle.load(f)\n",
    "\n",
    "\n",
    "# Pull Data from local file\n",
    "\n",
    "path_to_price_data = 'price_data.pkl'\n",
    "price_data = load_data_from_file(path_to_price_data)\n",
    "\n",
    "path_to_share_data = 'share_data.pkl'\n",
    "share_data = load_data_from_file(path_to_share_data)\n",
    "\n",
    "# clean up share_data + price_data\n",
    "\n",
    "START_DATE = '2015-11-04'\n",
    "END_DATE = '2020-06-19'\n",
    "\n",
    "full_date_range =  pd.date_range(start=START_DATE, end=END_DATE, freq='D')\n",
    "\n",
    "for ticker in tickers:\n",
    "    if not isinstance(share_data[ticker], pd.Series):\n",
    "        share_data[ticker] = pd.Series(share_data[ticker][\"Share Count\"])\n",
    "\n",
    "    if share_data[ticker].index.duplicated().any():\n",
    "        share_data[ticker] = share_data[ticker][~share_data[ticker].index.duplicated(keep='last')]\n",
    "    \n",
    "    share_data[ticker] = share_data[ticker].tz_localize(None)\n",
    "    share_data[ticker] = share_data[ticker].reindex(full_date_range)\n",
    "    share_data[ticker] = share_data[ticker].ffill()\n",
    "    share_data[ticker] = share_data[ticker].bfill()\n",
    "    \n",
    "    price_data[ticker] = price_data[ticker].tz_localize(None)\n",
    "    price_data[ticker] = price_data[ticker].reindex(full_date_range)\n",
    "    price_data[ticker] = price_data[ticker].ffill()\n",
    "    price_data[ticker] = price_data[ticker].bfill()\n",
    "\n",
    "    #additions\n",
    "\n",
    "    # print(price_data[ticker])\n",
    "    \n"
   ]
  },
  {
   "cell_type": "markdown",
   "metadata": {},
   "source": [
    "### O1-B1: EDA of Price Time Series and Return Distributions"
   ]
  },
  {
   "cell_type": "code",
   "execution_count": null,
   "metadata": {},
   "outputs": [],
   "source": [
    "for tkr in tickers:\n",
    "    data = price_data[tkr]\n",
    "    data = data[data.index > \"2004-01-01\"]\n",
    "    data = data.sort_index()\n",
    "    data[\"Daily Return\"] = data[\"Adj Close\"].pct_change()\n",
    "\n",
    "    fig, ax = plt.subplots(1, 2, figsize = (15, 4))\n",
    "    ax = ax.flatten()\n",
    "\n",
    "    ax[0].plot(data.index, data[\"Adj Close\"])\n",
    "    ax[0].set_title(f\"{tickers_to_names[tkr]} Stock Price History\")\n",
    "    ax[0].set_xlabel(f\"Date\")\n",
    "    ax[0].set_ylabel(f\"{tickers_to_names[tkr]} Price (USD)\")\n",
    "\n",
    "    ax[1].hist( data[\"Daily Return\"] * 100, bins = 100)\n",
    "    ax[1].set_title(f\"{tickers_to_names[tkr]} Distribution of Daily Returns\")\n",
    "    ax[1].set_xlabel(f\"{tickers_to_names[tkr]} Return (%)\")\n",
    "    ax[1].set_ylabel(f\"Frequency\")\n",
    "\n",
    "    fig.suptitle(f\"{tickers_to_names[tkr]} Price and Return History\")\n",
    "\n",
    "\n",
    "    \n"
   ]
  },
  {
   "cell_type": "markdown",
   "metadata": {},
   "source": [
    "# 02: Construct Index"
   ]
  },
  {
   "cell_type": "code",
   "execution_count": null,
   "metadata": {},
   "outputs": [],
   "source": [
    "# index_price_data = {\"Date\" : price_data[\"XOM\"].index}\n",
    "\n",
    "# for ticker in tickers:\n",
    "#     index_price_data[f\"{ticker} Price\"] = price_data[ticker][\"Adj Close\"]\n",
    "\n",
    "# index_share_data = {\"Date\" : share_data[\"XOM\"].index}\n",
    "# for ticker in tickers:\n",
    "#     index_share_data[f\"{ticker} Price\"] = share_data[ticker]\n",
    "\n",
    "# print(price_data[\"CVX\"])\n",
    "\n",
    "# for ticker in share_data:\n",
    "#     share_data[ticker] = pd.DataFrame(list(share_data[ticker].items()), columns=['Date', 'Share Count'])\n",
    "#     share_data[ticker].set_index('Date', inplace=True)\n",
    "#     share_data[ticker].index = share_data[ticker].index.normalize()  # Normalize the date index\n",
    "\n",
    "# share_data[\"XOM\"] = pd.Series(share_data[\"XOM\"][\"Share Count\"])\n",
    "# print(type(share_data[\"XOM\"]))\n",
    "# print(type(share_data[\"XOM\"]))\n",
    "# share_data[\"XOM\"] = share_data[\"XOM\"].tz_localize(None)\n",
    "# print(share_data[\"XOM\"])\n",
    "# s = pd.Series((share_data[\"XOM\"]))\n",
    "# s = s.tz_localize(None)\n",
    "# print(s)\n",
    "\n",
    "columns = []\n",
    "for ticker in tickers_to_names.keys():\n",
    "    columns.extend([\n",
    "        f\"{ticker} Price\",\n",
    "        f\"{ticker} Share Count\",\n",
    "        f\"{ticker} Market Cap\"\n",
    "    ])\n",
    "\n",
    "columns.extend([\"Index\", \"Total Market Cap\"])\n",
    "\n",
    "START_DATE = '2015-11-04'\n",
    "END_DATE = '2020-06-19'\n",
    "\n",
    "data = {col: [None] * len(pd.date_range(start=START_DATE, end=END_DATE)) for col in columns}\n",
    "\n",
    "index_df = pd.DataFrame(data)\n",
    "dates = pd.date_range(start=START_DATE, end=END_DATE, freq='D')\n",
    "index_df.index = dates\n",
    "\n",
    "for date in dates:\n",
    "    for ticker in tickers:\n",
    "        index_df.at[date, f\"{ticker} Price\"] = price_data[ticker][\"Adj Close\"][date]\n",
    "        index_df.at[date, f\"{ticker} Share Count\"] = share_data[ticker][date]\n",
    "        index_df.at[date, f\"{ticker} Market Cap\"] = share_data[ticker][date] * price_data[ticker][\"Adj Close\"][date]\n",
    "    \n",
    "    index_df[\"Total Market Cap\"] = sum(index_df[f\"{ticker} Market Cap\"] for ticker in tickers)\n",
    "    index_df[\"Index\"] = sum((index_df[f\"{ticker} Market Cap\"] / index_df[\"Total Market Cap\"]) * index_df[f\"{ticker} Price\"] for ticker in tickers)\n",
    "\n",
    "index_df"
   ]
  },
  {
   "cell_type": "markdown",
   "metadata": {},
   "source": [
    "# 03: Fitting Model for Whole Index"
   ]
  },
  {
   "cell_type": "markdown",
   "metadata": {},
   "source": [
    "# 04: Fitting Models for Single Stocks"
   ]
  },
  {
   "cell_type": "code",
   "execution_count": null,
   "metadata": {},
   "outputs": [],
   "source": [
    "oil_data = oil_data[oil_data[\"Brent_Daily_Change\"] > -1]\n",
    "oil_data = oil_data[oil_data[\"WTI_Daily_Change\"] > -1]\n",
    "\n",
    "plt.scatter(oil_data[\"WTI_Daily_Change\"], oil_data[\"Brent_Daily_Change\"])\n",
    "plt.title(\"Daily % Change in Brent vs. Daily % Change in WTI\")\n",
    "plt.xlabel(\"Daily % Change in WTI\")\n",
    "plt.xlabel(\"Daily % Change in Brent\")\n",
    "plt.axhline(0, color='grey', linewidth=0.5, linestyle='--')  \n",
    "plt.axvline(0, color='grey', linewidth=0.5, linestyle='--') \n",
    "plt.show()\n"
   ]
  },
  {
   "cell_type": "code",
   "execution_count": null,
   "metadata": {},
   "outputs": [],
   "source": [
    "for tkr in tickers:\n",
    "    data = price_data[tkr]\n",
    "    data = data[data.index > \"2004-01-01\"]\n",
    "\n",
    "    data = data.merge(oil_data, left_index=True, right_index=True, how= \"inner\")\n",
    "    data = data[data[\"WTI_Daily_Change\"] > -1]\n",
    "\n",
    "    data = data.sort_index()\n",
    "    data[\"Daily Return\"] = data[\"Adj Close\"].pct_change()\n",
    "\n",
    "\n",
    "    fig, ax = plt.subplots(1, 2, figsize = (15, 4))\n",
    "    ax = ax.flatten()\n",
    "\n",
    "    ax[0].scatter(data[\"WTI_Daily_Change\"], data[\"Daily Return\"])\n",
    "    ax[0].set_title(f\"{tickers_to_names[tkr]} Scatterplot of WTI % Change vs. Stock REturn\")\n",
    "    ax[0].set_xlabel(f\"WTI % Change\")\n",
    "    ax[0].set_ylabel(f\"{tickers_to_names[tkr]} Return (%)\")\n",
    "    ax[0].axhline(0, color='grey', linewidth=0.5, linestyle='--')  \n",
    "    ax[0].axvline(0, color='grey', linewidth=0.5, linestyle='--') \n",
    "    \n",
    "    ax[1].scatter(data[\"Brent_Daily_Change\"], data[\"Daily Return\"])\n",
    "    ax[1].set_title(f\"{tickers_to_names[tkr]} Scatterplot of Brent % Change vs. Stock REturn\")\n",
    "    ax[1].set_xlabel(f\"Brent % Change\")\n",
    "    ax[1].set_ylabel(f\"{tickers_to_names[tkr]} Return (%)\")\n",
    "    ax[1].axhline(0, color='grey', linewidth=0.5, linestyle='--')  \n",
    "    ax[1].axvline(0, color='grey', linewidth=0.5, linestyle='--')  \n",
    "\n",
    "    fig.suptitle(f\"{tickers_to_names[tkr]} Price and Return History\")"
   ]
  },
  {
   "cell_type": "markdown",
   "metadata": {},
   "source": [
    "# 05: Model Evaluation + Time Series Cross Validation"
   ]
  },
  {
   "cell_type": "markdown",
   "metadata": {},
   "source": []
  }
 ],
 "metadata": {
  "kernelspec": {
   "display_name": "Python 3",
   "language": "python",
   "name": "python3"
  },
  "language_info": {
   "codemirror_mode": {
    "name": "ipython",
    "version": 3
   },
   "file_extension": ".py",
   "mimetype": "text/x-python",
   "name": "python",
   "nbconvert_exporter": "python",
   "pygments_lexer": "ipython3",
   "version": "3.11.5"
  }
 },
 "nbformat": 4,
 "nbformat_minor": 2
}
